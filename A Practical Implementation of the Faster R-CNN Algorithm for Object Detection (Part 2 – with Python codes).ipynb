{
 "cells": [
  {
   "cell_type": "code",
   "execution_count": null,
   "metadata": {},
   "outputs": [],
   "source": [
    "# importing required libraries\n",
    "import pandas as pd\n",
    "import matplotlib.pyplot as plt\n",
    "%matplotlib inline\n",
    "from matplotlib import patches"
   ]
  },
  {
   "cell_type": "code",
   "execution_count": null,
   "metadata": {},
   "outputs": [],
   "source": [
    "# read the csv file using read_csv function of pandas\n",
    "train = pd.read_csv(‘train.csv’)\n",
    "train.head()"
   ]
  },
  {
   "cell_type": "code",
   "execution_count": null,
   "metadata": {},
   "outputs": [],
   "source": [
    "# reading single image using imread function of matplotlib\n",
    "image = plt.imread('images/1.jpg')\n",
    "plt.imshow(image)"
   ]
  },
  {
   "cell_type": "code",
   "execution_count": null,
   "metadata": {},
   "outputs": [],
   "source": [
    "# Number of unique training images\n",
    "train['image_names'].nunique()"
   ]
  },
  {
   "cell_type": "code",
   "execution_count": null,
   "metadata": {},
   "outputs": [],
   "source": [
    "# Number of classes\n",
    "train['cell_type'].value_counts()"
   ]
  },
  {
   "cell_type": "code",
   "execution_count": null,
   "metadata": {},
   "outputs": [],
   "source": [
    "fig = plt.figure()\n",
    "\n",
    "#add axes to the image\n",
    "ax = fig.add_axes([0,0,1,1])\n",
    "\n",
    "# read and plot the image\n",
    "image = plt.imread('images/1.jpg')\n",
    "plt.imshow(image)\n",
    "\n",
    "# iterating over the image for different objects\n",
    "for _,row in train[train.image_names == \"1.jpg\"].iterrows():\n",
    "    xmin = row.xmin\n",
    "    xmax = row.xmax\n",
    "    ymin = row.ymin\n",
    "    ymax = row.ymax\n",
    "    \n",
    "    width = xmax - xmin\n",
    "    height = ymax - ymin\n",
    "    \n",
    "    # assign different color to different classes of objects\n",
    "    if row.cell_type == 'RBC':\n",
    "        edgecolor = 'r'\n",
    "        ax.annotate('RBC', xy=(xmax-40,ymin+20))\n",
    "    elif row.cell_type == 'WBC':\n",
    "        edgecolor = 'b'\n",
    "        ax.annotate('WBC', xy=(xmax-40,ymin+20))\n",
    "    elif row.cell_type == 'Platelets':\n",
    "        edgecolor = 'g'\n",
    "        ax.annotate('Platelets', xy=(xmax-40,ymin+20))\n",
    "        \n",
    "    # add bounding boxes to the image\n",
    "    rect = patches.Rectangle((xmin,ymin), width, height, edgecolor = edgecolor, facecolor = 'none')\n",
    "    \n",
    "    ax.add_patch(rect)"
   ]
  },
  {
   "cell_type": "markdown",
   "metadata": {},
   "source": [
    "### Implementing Faster R-CNN "
   ]
  },
  {
   "cell_type": "code",
   "execution_count": null,
   "metadata": {},
   "outputs": [],
   "source": [
    "data = pd.DataFrame()\n",
    "data['format'] = train['image_names']\n",
    "\n",
    "# as the images are in train_images folder, add train_images before the image name\n",
    "for i in range(data.shape[0]):\n",
    "    data['format'][i] = 'train_images/' + data['format'][i]\n",
    "\n",
    "# add xmin, ymin, xmax, ymax and class as per the format required\n",
    "for i in range(data.shape[0]):\n",
    "    data['format'][i] = data['format'][i] + ',' + str(train['xmin'][i]) + ',' + str(train['ymin'][i]) + ',' + str(train['xmax'][i]) + ',' + str(train['ymax'][i]) + ',' + train['cell_type'][i]\n",
    "\n",
    "data.to_csv('annotate.txt', header=None, index=None, sep=' ')"
   ]
  },
  {
   "cell_type": "code",
   "execution_count": null,
   "metadata": {},
   "outputs": [],
   "source": [
    "cd keras-frcnn\n",
    "python train_frcnn.py -o simple -p annotate.txt"
   ]
  },
  {
   "cell_type": "code",
   "execution_count": null,
   "metadata": {},
   "outputs": [],
   "source": [
    "python test_frcnn.py -p test_images"
   ]
  }
 ],
 "metadata": {
  "kernelspec": {
   "display_name": "Python 3",
   "language": "python",
   "name": "python3"
  },
  "language_info": {
   "codemirror_mode": {
    "name": "ipython",
    "version": 3
   },
   "file_extension": ".py",
   "mimetype": "text/x-python",
   "name": "python",
   "nbconvert_exporter": "python",
   "pygments_lexer": "ipython3",
   "version": "3.7.3"
  }
 },
 "nbformat": 4,
 "nbformat_minor": 2
}
